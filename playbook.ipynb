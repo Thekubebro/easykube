{
  "nbformat": 4,
  "nbformat_minor": 0,
  "metadata": {
    "colab": {
      "name": "playbook.ipynb",
      "version": "0.3.2",
      "provenance": []
    },
    "kernelspec": {
      "name": "python3",
      "display_name": "Python 3"
    }
  },
  "cells": [
    {
      "metadata": {
        "id": "neW0iCZeGa35",
        "colab_type": "text"
      },
      "cell_type": "markdown",
      "source": [
        "# Continuous Delivery for Helm Charts on Kubernetes Engine using Concourse"
      ]
    },
    {
      "metadata": {
        "id": "ydRHCg0XGiYA",
        "colab_type": "text"
      },
      "cell_type": "markdown",
      "source": [
        "This tutorial shows how to create a software release process with Kubernetes Engine, Helm, and Concourse. Helm is a tool to help you manage Kubernetes manifests. Concourse takes advantage of Helm to continuously deploy your applications.\n",
        "\n",
        "Following this tutorial results in:\n",
        "\n",
        "Two source code repositories, one for your application source code and another for your Helm chart.\n",
        "Your application, packaged as a Docker container and installed and configured as a Helm Chart in your cluster.\n",
        "You can push a Git tag to either of the two repositories to start a release."
      ]
    },
    {
      "metadata": {
        "id": "pFJzZjvwGj8r",
        "colab_type": "text"
      },
      "cell_type": "markdown",
      "source": [
        "## Architecture\n"
      ]
    },
    {
      "metadata": {
        "id": "d4y3eKMbIBMF",
        "colab_type": "text"
      },
      "cell_type": "markdown",
      "source": [
        "Concourse assembles continuous delivery pipelines that you can use to codify the steps of your build, test, and release processes. In Concourse, the stages of pipelines are called jobs. Each job can take a resource as an input and can create a resource as an output.\n",
        "\n",
        "In this tutorial, you use the following Concourse resource types:\n",
        "\n",
        "Docker images\n",
        "Git repositories and tags\n",
        "Helm charts and releases\n",
        "You can use Helm to make your Kubernetes manifests into templates and then configure, install, and upgrade them as as a unit. You must define your application as a chart for Helm to install it. Each Helm chart has a values file that you can use to parameterize your manifests. For example, you might have a value that defines the Docker image to use for your application deployment. This value might change each time you install or upgrade your chart. Each installation of a chart is called a release. You use releases to upgrade or roll back an instance of your application.\n",
        "\n",
        "You can share charts by using a repository. In this tutorial, you create a private chart repository using Cloud Storage."
      ]
    },
    {
      "metadata": {
        "id": "dbOvHUT5GxDS",
        "colab_type": "text"
      },
      "cell_type": "markdown",
      "source": [
        "## Objectives"
      ]
    },
    {
      "metadata": {
        "id": "LPxd-z6UGxFb",
        "colab_type": "text"
      },
      "cell_type": "markdown",
      "source": [
        "## Before you begin\n"
      ]
    },
    {
      "metadata": {
        "id": "HiYkaWFBGxJQ",
        "colab_type": "text"
      },
      "cell_type": "markdown",
      "source": [
        "## Setting up your environment\n"
      ]
    },
    {
      "metadata": {
        "id": "6xqV14DGHD47",
        "colab_type": "text"
      },
      "cell_type": "markdown",
      "source": [
        "### Create a Kubernetes Engine cluster\n"
      ]
    },
    {
      "metadata": {
        "id": "iUVd6H3YJ49h",
        "colab_type": "code",
        "colab": {}
      },
      "cell_type": "code",
      "source": [
        "gcloud container clusters create concourse --image-type ubuntu \\\n",
        "    --machine-type n1-standard-2 --zone us-central1-f \\\n",
        "    --scopes cloud-source-repos-ro,storage-full"
      ],
      "execution_count": 0,
      "outputs": []
    },
    {
      "metadata": {
        "id": "vW9a355IHHDW",
        "colab_type": "text"
      },
      "cell_type": "markdown",
      "source": [
        "### Download the sample code\n"
      ]
    },
    {
      "metadata": {
        "id": "8PkF8CJyJ-5y",
        "colab_type": "code",
        "colab": {}
      },
      "cell_type": "code",
      "source": [
        "wget https://gke-concourse.storage.googleapis.com/sample-app-v4.zip\n",
        "unzip sample-app-v4.zip\n",
        "cd concourse-continuous-delivery-master"
      ],
      "execution_count": 0,
      "outputs": []
    },
    {
      "metadata": {
        "id": "Zn5VzV-tHKNC",
        "colab_type": "text"
      },
      "cell_type": "markdown",
      "source": [
        "## Deploying Concourse using Helm\n"
      ]
    },
    {
      "metadata": {
        "id": "wJuKk_D4HL2K",
        "colab_type": "text"
      },
      "cell_type": "markdown",
      "source": [
        "### Install Helm\n"
      ]
    },
    {
      "metadata": {
        "id": "Grd5fB7-KCrT",
        "colab_type": "code",
        "colab": {}
      },
      "cell_type": "code",
      "source": [
        "wget https://storage.googleapis.com/kubernetes-helm/helm-v2.6.2-linux-amd64.tar.gz"
      ],
      "execution_count": 0,
      "outputs": []
    },
    {
      "metadata": {
        "id": "LqX7-LkzKMp3",
        "colab_type": "code",
        "colab": {}
      },
      "cell_type": "code",
      "source": [
        "tar zxfv helm-v2.6.2-linux-amd64.tar.gz\n",
        "cp linux-amd64/helm ."
      ],
      "execution_count": 0,
      "outputs": []
    },
    {
      "metadata": {
        "id": "zHOhUDJaKP9E",
        "colab_type": "code",
        "colab": {}
      },
      "cell_type": "code",
      "source": [
        "kubectl create clusterrolebinding user-admin-binding --clusterrole=cluster-admin --user=$(gcloud config get-value account)"
      ],
      "execution_count": 0,
      "outputs": []
    },
    {
      "metadata": {
        "id": "-I50L4YwKSte",
        "colab_type": "code",
        "colab": {}
      },
      "cell_type": "code",
      "source": [
        "kubectl create serviceaccount tiller --namespace kube-system"
      ],
      "execution_count": 0,
      "outputs": []
    },
    {
      "metadata": {
        "id": "CVEO_ULsKWpD",
        "colab_type": "code",
        "colab": {}
      },
      "cell_type": "code",
      "source": [
        "kubectl create clusterrolebinding tiller-admin-binding --clusterrole=cluster-admin --serviceaccount=kube-system:tiller"
      ],
      "execution_count": 0,
      "outputs": []
    },
    {
      "metadata": {
        "id": "8QcyoNqRKavm",
        "colab_type": "code",
        "colab": {}
      },
      "cell_type": "code",
      "source": [
        "kubectl create clusterrolebinding --clusterrole=cluster-admin --serviceaccount=default:default concourse-admin"
      ],
      "execution_count": 0,
      "outputs": []
    },
    {
      "metadata": {
        "id": "PRZyxIAiKeGm",
        "colab_type": "code",
        "colab": {}
      },
      "cell_type": "code",
      "source": [
        "./helm init --service-account=tiller\n",
        "./helm update"
      ],
      "execution_count": 0,
      "outputs": []
    },
    {
      "metadata": {
        "id": "ZuISrtSuKg4U",
        "colab_type": "code",
        "colab": {}
      },
      "cell_type": "code",
      "source": [
        "export PROJECT=$(gcloud info --format='value(config.project)')\n",
        "export BUCKET=$PROJECT-helm-repo\n",
        "./helm plugin install https://github.com/viglesiasce/helm-gcs.git --version v0.1.1\n",
        "gsutil mb -l us-central1 gs://$BUCKET\n",
        "./helm gcs init gs://$BUCKET"
      ],
      "execution_count": 0,
      "outputs": []
    },
    {
      "metadata": {
        "id": "eDe7IO96KjR1",
        "colab_type": "code",
        "colab": {}
      },
      "cell_type": "code",
      "source": [
        "./helm version"
      ],
      "execution_count": 0,
      "outputs": []
    },
    {
      "metadata": {
        "id": "L2_4fPooKmtl",
        "colab_type": "code",
        "colab": {}
      },
      "cell_type": "code",
      "source": [
        "Client: &version.Version{SemVer:\"v2.6.2\",\n",
        "GitCommit:\"012cb0ac1a1b2f888144ef5a67b8dab6c2d45be6\",\n",
        "GitTreeState:\"clean\"}Server: &version.Version{SemVer:\"v2.6.2\",\n",
        "GitCommit:\"012cb0ac1a1b2f888144ef5a67b8dab6c2d45be6\",\n",
        "GitTreeState:\"clean\"}"
      ],
      "execution_count": 0,
      "outputs": []
    },
    {
      "metadata": {
        "id": "QlyEELiCHR2Z",
        "colab_type": "text"
      },
      "cell_type": "markdown",
      "source": [
        "### Deploy Concourse\n"
      ]
    },
    {
      "metadata": {
        "id": "56bv4aLwKr4D",
        "colab_type": "code",
        "colab": {}
      },
      "cell_type": "code",
      "source": [
        "export PASSWORD=$(openssl rand -base64 15)\n",
        "cat > concourse.yaml <<EOF\n",
        "concourse:\n",
        "  password: $PASSWORD\n",
        "  baggageclaimDriver: overlay\n",
        "web:\n",
        "  service:\n",
        "    type: LoadBalancer\n",
        "EOF"
      ],
      "execution_count": 0,
      "outputs": []
    },
    {
      "metadata": {
        "id": "QD0tPQ-LKyFa",
        "colab_type": "code",
        "colab": {}
      },
      "cell_type": "code",
      "source": [
        "./helm install stable/concourse --name concourse -f concourse.yaml --version 0.10.0"
      ],
      "execution_count": 0,
      "outputs": []
    },
    {
      "metadata": {
        "id": "nJVWH4M6K0y6",
        "colab_type": "code",
        "colab": {}
      },
      "cell_type": "code",
      "source": [
        "kubectl get pods -l app=concourse-web\n"
      ],
      "execution_count": 0,
      "outputs": []
    },
    {
      "metadata": {
        "id": "sap05bINK5K_",
        "colab_type": "code",
        "colab": {}
      },
      "cell_type": "code",
      "source": [
        "export SERVICE_IP=$(kubectl get svc \\\n",
        "    --namespace default concourse-web \\\n",
        "    -o jsonpath='{.status.loadBalancer.ingress[0].ip}')\n",
        "wget -O fly \"http://$SERVICE_IP:8080/api/v1/cli?arch=amd64&platform=linux\"\n",
        "chmod +x fly"
      ],
      "execution_count": 0,
      "outputs": []
    },
    {
      "metadata": {
        "id": "UZ9GRYTGK7zC",
        "colab_type": "code",
        "colab": {}
      },
      "cell_type": "code",
      "source": [
        "./fly -t local login -u concourse -p $PASSWORD -c http://$SERVICE_IP:8080\n"
      ],
      "execution_count": 0,
      "outputs": []
    },
    {
      "metadata": {
        "id": "yIb46XPJK_FH",
        "colab_type": "code",
        "colab": {}
      },
      "cell_type": "code",
      "source": [
        "export SERVICE_IP=$(kubectl get svc \\\n",
        "    --namespace default concourse-web \\\n",
        "    -o jsonpath='{.status.loadBalancer.ingress[0].ip}')\n",
        "printf \"Concourse URL: [http://$SERVICE_IP:8080]\\nUsername: concourse\\nPassword: $PASSWORD\\n\""
      ],
      "execution_count": 0,
      "outputs": []
    },
    {
      "metadata": {
        "id": "2_2nRbm7HVnh",
        "colab_type": "text"
      },
      "cell_type": "markdown",
      "source": [
        "### Configure identity and access management\n"
      ]
    },
    {
      "metadata": {
        "id": "z6uTKbjKLDp1",
        "colab_type": "code",
        "colab": {}
      },
      "cell_type": "code",
      "source": [
        "gcloud iam service-accounts create concourse --display-name concourse"
      ],
      "execution_count": 0,
      "outputs": []
    },
    {
      "metadata": {
        "id": "Mz0KbGnxLE-U",
        "colab_type": "code",
        "colab": {}
      },
      "cell_type": "code",
      "source": [
        "export SA_EMAIL=$(gcloud iam service-accounts list \\\n",
        "    --filter=\"displayName:concourse\" --format='value(email)')\n",
        "export PROJECT=$(gcloud info --format='value(config.project)')"
      ],
      "execution_count": 0,
      "outputs": []
    },
    {
      "metadata": {
        "id": "ANjsPVCaLFBQ",
        "colab_type": "code",
        "colab": {}
      },
      "cell_type": "code",
      "source": [
        "gcloud projects add-iam-policy-binding $PROJECT \\\n",
        "    --role roles/storage.admin --member serviceAccount:$SA_EMAIL"
      ],
      "execution_count": 0,
      "outputs": []
    },
    {
      "metadata": {
        "id": "YLP3RUinLFDn",
        "colab_type": "code",
        "colab": {}
      },
      "cell_type": "code",
      "source": [
        "gcloud iam service-accounts keys create concourse-sa.json \\\n",
        "    --iam-account $SA_EMAIL"
      ],
      "execution_count": 0,
      "outputs": []
    },
    {
      "metadata": {
        "id": "fGlNG7YkHVqc",
        "colab_type": "text"
      },
      "cell_type": "markdown",
      "source": [
        "## Deploying your application\n"
      ]
    },
    {
      "metadata": {
        "id": "yNHIQ4BmHVtE",
        "colab_type": "text"
      },
      "cell_type": "markdown",
      "source": [
        "### Create source code repositories\n"
      ]
    },
    {
      "metadata": {
        "id": "KCTFgbT9Lc6j",
        "colab_type": "code",
        "colab": {}
      },
      "cell_type": "code",
      "source": [
        "gcloud source repos create chart-source\n",
        "gcloud source repos create app-source"
      ],
      "execution_count": 0,
      "outputs": []
    },
    {
      "metadata": {
        "id": "fPxu5L0JLfl-",
        "colab_type": "code",
        "colab": {}
      },
      "cell_type": "code",
      "source": [
        "git config --global user.email \"[EMAIL_ADDRESS]\"\n",
        "git config --global user.name \"[USERNAME]\""
      ],
      "execution_count": 0,
      "outputs": []
    },
    {
      "metadata": {
        "id": "mtw1sZQVLgE4",
        "colab_type": "code",
        "colab": {}
      },
      "cell_type": "code",
      "source": [
        "export PROJECT=$(gcloud info --format='value(config.project)')\n",
        "for repo in app-source chart-source; do\n",
        "cd $repo\n",
        "git init && git add . && git commit -m 'Initial commit'\n",
        "git config credential.helper gcloud.sh\n",
        "git remote add google \\\n",
        "    https://source.developers.google.com/p/$PROJECT/r/$repo\n",
        "    git push --all google\n",
        "cd ..\n",
        "done"
      ],
      "execution_count": 0,
      "outputs": []
    },
    {
      "metadata": {
        "id": "xQpewEUwHVvK",
        "colab_type": "text"
      },
      "cell_type": "markdown",
      "source": [
        "### Configure and create the pipeline\n"
      ]
    },
    {
      "metadata": {
        "id": "iFOMAdu_Ljw_",
        "colab_type": "code",
        "colab": {}
      },
      "cell_type": "code",
      "source": [
        "export PROJECT=$(gcloud info --format='value(config.project)')\n",
        "export BUCKET=$PROJECT-helm-repo\n",
        "export TOKEN_SECRET=$(kubectl get serviceaccount default -o jsonpath=\"{.secrets[0].name}\")\n",
        "export CLUSTER_CA=$(kubectl get secret $TOKEN_SECRET -o jsonpath='{.data.ca\\.crt}')\n",
        "export TOKEN=$(kubectl get secret $TOKEN_SECRET -o jsonpath='{.data.token}' | base64 --decode)\n",
        "\n",
        "cat > params.yaml <<EOF\n",
        "chart_name: nginx\n",
        "release_name: dev-site\n",
        "bucket: $BUCKET\n",
        "cluster_ca: $CLUSTER_CA\n",
        "token: $TOKEN\n",
        "project: $PROJECT\n",
        "service_account_json: '$(cat concourse-sa.json)'\n",
        "EOF"
      ],
      "execution_count": 0,
      "outputs": []
    },
    {
      "metadata": {
        "id": "QNIqeYFOLkI3",
        "colab_type": "code",
        "colab": {}
      },
      "cell_type": "code",
      "source": [
        "./fly -t local set-pipeline -p dev-site-deploy \\\n",
        "    -c pipeline.yaml -l params.yaml -n"
      ],
      "execution_count": 0,
      "outputs": []
    },
    {
      "metadata": {
        "id": "aKa_aUsULkLw",
        "colab_type": "code",
        "colab": {}
      },
      "cell_type": "code",
      "source": [
        "./fly -t local unpause-pipeline -p dev-site-deploy"
      ],
      "execution_count": 0,
      "outputs": []
    },
    {
      "metadata": {
        "id": "f4B43jrrHlVF",
        "colab_type": "text"
      },
      "cell_type": "markdown",
      "source": [
        "### Deploying your application for the first time\n"
      ]
    },
    {
      "metadata": {
        "id": "UyoiY-y7Lspt",
        "colab_type": "code",
        "colab": {}
      },
      "cell_type": "code",
      "source": [
        "for repo in app-source chart-source; do\n",
        "    cd $repo\n",
        "    git tag v1.0.0\n",
        "    git push google --tags\n",
        "    cd ..\n",
        "done"
      ],
      "execution_count": 0,
      "outputs": []
    },
    {
      "metadata": {
        "id": "SLDr8T0oHooN",
        "colab_type": "text"
      },
      "cell_type": "markdown",
      "source": [
        "### Deploying a change to the application\n"
      ]
    },
    {
      "metadata": {
        "id": "8QA13Uf4Lvgl",
        "colab_type": "code",
        "colab": {}
      },
      "cell_type": "code",
      "source": [
        "export POD_NAME=$(kubectl get pods --namespace default \\\n",
        "    -l \"app=nginx,release=dev-site\" \\\n",
        "    -o jsonpath=\"{.items[0].metadata.name}\")\n",
        "kubectl port-forward $POD_NAME 8080:80 &\n",
        "curl -is localhost:8080 | grep 'Server\\|color'"
      ],
      "execution_count": 0,
      "outputs": []
    },
    {
      "metadata": {
        "id": "RHnnP9XeL2Vo",
        "colab_type": "code",
        "colab": {}
      },
      "cell_type": "code",
      "source": [
        "killall kubectl"
      ],
      "execution_count": 0,
      "outputs": []
    },
    {
      "metadata": {
        "id": "SqiJvn6qL2cW",
        "colab_type": "code",
        "colab": {}
      },
      "cell_type": "code",
      "source": [
        "cd app-source"
      ],
      "execution_count": 0,
      "outputs": []
    },
    {
      "metadata": {
        "id": "rN9_JePGL4zM",
        "colab_type": "code",
        "colab": {}
      },
      "cell_type": "code",
      "source": [
        "sed -i s/stable/latest/ Dockerfile"
      ],
      "execution_count": 0,
      "outputs": []
    },
    {
      "metadata": {
        "id": "5U6lF05nL41-",
        "colab_type": "code",
        "colab": {}
      },
      "cell_type": "code",
      "source": [
        "git add Dockerfile\n",
        "git commit -m 'Use latest NGINX'\n",
        "git tag v2.0.0"
      ],
      "execution_count": 0,
      "outputs": []
    },
    {
      "metadata": {
        "id": "Eal30ZukL45T",
        "colab_type": "code",
        "colab": {}
      },
      "cell_type": "code",
      "source": [
        "git push google --mirror"
      ],
      "execution_count": 0,
      "outputs": []
    },
    {
      "metadata": {
        "id": "sTy5mQy7MEtf",
        "colab_type": "code",
        "colab": {}
      },
      "cell_type": "code",
      "source": [
        "../fly -t local check-resource -r dev-site-deploy/app-source"
      ],
      "execution_count": 0,
      "outputs": []
    },
    {
      "metadata": {
        "id": "MZkRLIsTMEwy",
        "colab_type": "code",
        "colab": {}
      },
      "cell_type": "code",
      "source": [
        "export POD_NAME=$(kubectl get pods --namespace default \\\n",
        "    -l \"app=nginx,release=dev-site\" \\\n",
        "    -o jsonpath=\"{.items[0].metadata.name}\")\n",
        "kubectl port-forward $POD_NAME 8080:80 &\n",
        "curl -is localhost:8080 | grep 'Server\\|color'"
      ],
      "execution_count": 0,
      "outputs": []
    },
    {
      "metadata": {
        "id": "lgVOW7bsME0L",
        "colab_type": "code",
        "colab": {}
      },
      "cell_type": "code",
      "source": [
        "export POD_NAME=$(kubectl get pods --namespace default \\\n",
        "    -l \"app=nginx,release=dev-site\" \\\n",
        "    -o jsonpath=\"{.items[0].metadata.name}\")\n",
        "kubectl port-forward $POD_NAME 8080:80 &\n",
        "curl -is localhost:8080 | grep 'Server\\|color'"
      ],
      "execution_count": 0,
      "outputs": []
    },
    {
      "metadata": {
        "id": "l8y4P3CWMK-a",
        "colab_type": "code",
        "colab": {}
      },
      "cell_type": "code",
      "source": [
        "Server: nginx/1.15.0\n",
        "<h1 style=\"color:blue;\">Welcome to the sample app!</h1>"
      ],
      "execution_count": 0,
      "outputs": []
    },
    {
      "metadata": {
        "id": "RLCivP9gMLEA",
        "colab_type": "code",
        "colab": {}
      },
      "cell_type": "code",
      "source": [
        "killall kubectl"
      ],
      "execution_count": 0,
      "outputs": []
    },
    {
      "metadata": {
        "id": "XbEUpWosHsRf",
        "colab_type": "text"
      },
      "cell_type": "markdown",
      "source": [
        "### Deploying a change to the chart\n"
      ]
    },
    {
      "metadata": {
        "id": "rw44aInWMLCO",
        "colab_type": "code",
        "colab": {}
      },
      "cell_type": "code",
      "source": [
        "cd ../chart-source/"
      ],
      "execution_count": 0,
      "outputs": []
    },
    {
      "metadata": {
        "id": "fn3ABwrjMWDB",
        "colab_type": "code",
        "colab": {}
      },
      "cell_type": "code",
      "source": [
        "sed -i s/blue/green/ templates/config-map.yaml"
      ],
      "execution_count": 0,
      "outputs": []
    },
    {
      "metadata": {
        "id": "vFkUbrExMWF_",
        "colab_type": "code",
        "colab": {}
      },
      "cell_type": "code",
      "source": [
        "git add templates/config-map.yaml\n",
        "git commit -m 'Use green for page heading'"
      ],
      "execution_count": 0,
      "outputs": []
    },
    {
      "metadata": {
        "id": "RYDpT4PDMWJC",
        "colab_type": "code",
        "colab": {}
      },
      "cell_type": "code",
      "source": [
        "git tag v2.0.0\n",
        "git push google --mirror"
      ],
      "execution_count": 0,
      "outputs": []
    },
    {
      "metadata": {
        "id": "becO-3lyMWLj",
        "colab_type": "code",
        "colab": {}
      },
      "cell_type": "code",
      "source": [
        "../fly -t local check-resource -r dev-site-deploy/chart-source"
      ],
      "execution_count": 0,
      "outputs": []
    },
    {
      "metadata": {
        "id": "MNJFRCb0MdKw",
        "colab_type": "code",
        "colab": {}
      },
      "cell_type": "code",
      "source": [
        "export POD_NAME=$(kubectl get pods \\\n",
        "    -n default -l \"app=nginx,release=dev-site\" \\\n",
        "    -o jsonpath=\"{.items[0].metadata.name}\")\n",
        "kubectl port-forward $POD_NAME 8080:80 &\n",
        "curl -is localhost:8080 | grep 'Server\\|color'"
      ],
      "execution_count": 0,
      "outputs": []
    },
    {
      "metadata": {
        "id": "UqkhxXkLHvj4",
        "colab_type": "text"
      },
      "cell_type": "markdown",
      "source": [
        "## Cleaning up\n"
      ]
    },
    {
      "metadata": {
        "id": "B5IOt-qAGaBz",
        "colab_type": "code",
        "colab": {}
      },
      "cell_type": "code",
      "source": [
        "../helm delete --purge concourse"
      ],
      "execution_count": 0,
      "outputs": []
    },
    {
      "metadata": {
        "id": "z_zL-H8DMj1-",
        "colab_type": "code",
        "colab": {}
      },
      "cell_type": "code",
      "source": [
        "export SA_EMAIL=$(gcloud iam service-accounts list \\\n",
        "    --filter=\"displayName:concourse\" \\\n",
        "    --format='value(email)')\n",
        "gcloud iam service-accounts delete $SA_EMAIL"
      ],
      "execution_count": 0,
      "outputs": []
    },
    {
      "metadata": {
        "id": "-4_KYgouMj47",
        "colab_type": "code",
        "colab": {}
      },
      "cell_type": "code",
      "source": [
        "gcloud container clusters delete concourse --zone us-central1-f"
      ],
      "execution_count": 0,
      "outputs": []
    },
    {
      "metadata": {
        "id": "uDhCqPv_Mj8M",
        "colab_type": "code",
        "colab": {}
      },
      "cell_type": "code",
      "source": [
        "gcloud source repos delete app-source --quiet\n",
        "gcloud source repos delete chart-source --quiet"
      ],
      "execution_count": 0,
      "outputs": []
    },
    {
      "metadata": {
        "id": "D7UGTgfpM0fK",
        "colab_type": "code",
        "colab": {}
      },
      "cell_type": "code",
      "source": [
        "export PROJECT=$(gcloud info --format='value(config.project)')\n",
        "export BUCKET=$PROJECT-helm-repo\n",
        "gsutil -m rm -r gs://$BUCKET"
      ],
      "execution_count": 0,
      "outputs": []
    }
  ]
}